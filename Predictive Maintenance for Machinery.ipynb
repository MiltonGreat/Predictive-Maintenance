{
 "cells": [
  {
   "cell_type": "markdown",
   "id": "0b39ee6b-3293-4e00-9a55-ead0e280a253",
   "metadata": {},
   "source": [
    "# Predictive Maintenance for Machinery "
   ]
  },
  {
   "cell_type": "code",
   "execution_count": 9,
   "id": "c0050c49-2b1c-4af5-aba1-9c024f826607",
   "metadata": {},
   "outputs": [],
   "source": [
    "import pandas as pd\n",
    "from sklearn.preprocessing import StandardScaler\n",
    "from sklearn.model_selection import train_test_split, RandomizedSearchCV\n",
    "from sklearn.ensemble import RandomForestClassifier\n",
    "from sklearn.metrics import accuracy_score, classification_report, confusion_matrix, roc_auc_score\n",
    "from sklearn.model_selection import cross_val_score\n",
    "import matplotlib.pyplot as plt\n",
    "import seaborn as sns\n",
    "import xgboost as xgb import XGBClassifier  # Import XGBClassifier\n",
    "import numpy as np\n",
    "from tensorflow.keras.models import Sequential\n",
    "from tensorflow.keras.layers import LSTM, Dense\n",
    "from tensorflow.keras.models import Sequential\n",
    "from tensorflow.keras.layers import LSTM, Dense\n",
    "from sklearn.preprocessing import StandardScaler\n",
    "from sklearn.metrics import accuracy_score, classification_report, confusion_matrix, roc_auc_score"
   ]
  },
  {
   "cell_type": "code",
   "execution_count": 1,
   "id": "f678acbf-6a4f-4fe8-9b0c-0b92024147dc",
   "metadata": {},
   "outputs": [],
   "source": [
    "import pandas as pd\n",
    "from sklearn.preprocessing import StandardScaler\n",
    "from sklearn.model_selection import train_test_split, RandomizedSearchCV\n",
    "from sklearn.ensemble import RandomForestClassifier\n",
    "from sklearn.metrics import accuracy_score, classification_report, confusion_matrix, roc_auc_score\n",
    "from sklearn.model_selection import cross_val_score\n",
    "from sklearn.utils.class_weight import compute_class_weight\n",
    "import matplotlib.pyplot as plt\n",
    "import seaborn as sns\n",
    "import xgboost as xgb\n",
    "import numpy as np"
   ]
  },
  {
   "cell_type": "code",
   "execution_count": 3,
   "id": "fe8a47e9-ac8c-448b-8301-f7af769fbd9a",
   "metadata": {},
   "outputs": [
    {
     "name": "stdout",
     "output_type": "stream",
     "text": [
      "       date    device  failure    metric1  metric2  metric3  metric4  metric5  \\\n",
      "0  1/1/2015  S1F01085        0  215630672       55        0       52        6   \n",
      "1  1/1/2015  S1F0166B        0   61370680        0        3        0        6   \n",
      "2  1/1/2015  S1F01E6Y        0  173295968        0        0        0       12   \n",
      "3  1/1/2015  S1F01JE0        0   79694024        0        0        0        6   \n",
      "4  1/1/2015  S1F01R2B        0  135970480        0        0        0       15   \n",
      "\n",
      "   metric6  metric7  metric8  metric9  \n",
      "0   407438        0        0        7  \n",
      "1   403174        0        0        0  \n",
      "2   237394        0        0        0  \n",
      "3   410186        0        0        0  \n",
      "4   313173        0        0        3  \n",
      "Shape of the dataset: (124494, 12)\n",
      "Columns in the dataset: Index(['date', 'device', 'failure', 'metric1', 'metric2', 'metric3', 'metric4',\n",
      "       'metric5', 'metric6', 'metric7', 'metric8', 'metric9'],\n",
      "      dtype='object')\n"
     ]
    }
   ],
   "source": [
    "# Load the dataset\n",
    "file_path = 'predictive_maintenance_dataset.csv'  # Replace with the actual path\n",
    "data = pd.read_csv(file_path)\n",
    "\n",
    "# Display basic info about the dataset\n",
    "print(data.head())  \n",
    "print(\"Shape of the dataset:\", data.shape)\n",
    "print(\"Columns in the dataset:\", data.columns)"
   ]
  },
  {
   "cell_type": "code",
   "execution_count": 5,
   "id": "ab5f4e28-7f56-4385-b4ac-7d6045f05171",
   "metadata": {},
   "outputs": [
    {
     "name": "stdout",
     "output_type": "stream",
     "text": [
      "Training set size: (87145, 1177)\n",
      "Validation set size: (18674, 1177)\n",
      "Test set size: (18675, 1177)\n"
     ]
    }
   ],
   "source": [
    "# Step 1: Handling outliers (capping at 1st and 99th percentiles)\n",
    "metrics = ['metric1', 'metric2', 'metric3', 'metric4', 'metric5', 'metric6', 'metric7', 'metric8', 'metric9']\n",
    "for metric in metrics:\n",
    "    lower_bound = data[metric].quantile(0.01)\n",
    "    upper_bound = data[metric].quantile(0.99)\n",
    "    data[metric] = data[metric].clip(lower=lower_bound, upper=upper_bound)\n",
    "\n",
    "# Step 2: Normalize/Standardize the sensor data\n",
    "scaler = StandardScaler()\n",
    "data[metrics] = scaler.fit_transform(data[metrics])\n",
    "\n",
    "# Step 3: One-hot encode the 'device' column\n",
    "data_encoded = pd.get_dummies(data, columns=['device'], drop_first=True)\n",
    "\n",
    "# Create new features: rolling means, differences, and lag features\n",
    "data['date'] = pd.to_datetime(data['date'])\n",
    "data = data.sort_values(by='date')\n",
    "rolling_window = 3\n",
    "for metric in metrics:\n",
    "    data[f'{metric}_rolling_mean_{rolling_window}'] = data[metric].rolling(window=rolling_window, min_periods=1).mean()\n",
    "    data[f'{metric}_lag_1'] = data[metric].shift(1)\n",
    "    data[f'{metric}_lag_3'] = data[metric].shift(3)\n",
    "data['metric1_metric2_diff'] = data['metric1'] - data['metric2']\n",
    "\n",
    "# Drop non-numeric columns (like 'date')\n",
    "X = data_encoded.drop(columns=['failure', 'date'])\n",
    "y = data_encoded['failure']\n",
    "\n",
    "# Split the data into training (70%), validation (15%), and test (15%) sets\n",
    "X_train, X_rem, y_train, y_rem = train_test_split(X, y, test_size=0.3, random_state=42)\n",
    "X_val, X_test, y_val, y_test = train_test_split(X_rem, y_rem, test_size=0.5, random_state=42)\n",
    "\n",
    "# Display the dataset split sizes\n",
    "print(f\"Training set size: {X_train.shape}\")\n",
    "print(f\"Validation set size: {X_val.shape}\")\n",
    "print(f\"Test set size: {X_test.shape}\")"
   ]
  },
  {
   "cell_type": "code",
   "execution_count": 7,
   "id": "0ca22509-9b79-42f2-baa5-2477c66a7397",
   "metadata": {},
   "outputs": [
    {
     "name": "stdout",
     "output_type": "stream",
     "text": [
      "Class Weights: {0: 0.5004364354707186, 1: 573.3223684210526}\n",
      "Cross-validation accuracy: 0.9989\n",
      "Top 10 Most Important Features:\n",
      "             Feature  Importance\n",
      "3            metric4    0.142856\n",
      "1            metric2    0.107756\n",
      "6            metric7    0.088982\n",
      "0            metric1    0.085563\n",
      "5            metric6    0.082153\n",
      "7            metric8    0.080269\n",
      "4            metric5    0.048747\n",
      "8            metric9    0.024972\n",
      "455  device_S1F11MB0    0.012863\n",
      "2            metric3    0.011863\n"
     ]
    }
   ],
   "source": [
    "# Calculate class weights to address class imbalance\n",
    "class_weights = compute_class_weight(class_weight='balanced', classes=np.unique(y_train), y=y_train)\n",
    "class_weight_dict = dict(enumerate(class_weights))\n",
    "print(\"Class Weights:\", class_weight_dict)\n",
    "\n",
    "# Fit a RandomForest model with class weights and cross-validation\n",
    "rf_model = RandomForestClassifier(n_estimators=100, random_state=42, class_weight=class_weight_dict)\n",
    "cv_scores = cross_val_score(rf_model, X_train, y_train, cv=5)\n",
    "print(f\"Cross-validation accuracy: {cv_scores.mean():.4f}\")\n",
    "\n",
    "# Train RandomForest model and get feature importances\n",
    "rf_model.fit(X_train, y_train)\n",
    "importances = rf_model.feature_importances_\n",
    "feature_importance_df = pd.DataFrame({'Feature': X.columns, 'Importance': importances}).sort_values(by='Importance', ascending=False)\n",
    "print(\"Top 10 Most Important Features:\")\n",
    "print(feature_importance_df.head(10))"
   ]
  },
  {
   "cell_type": "code",
   "execution_count": 9,
   "id": "f1587f57-7441-4eb9-a175-fc89f752accf",
   "metadata": {},
   "outputs": [
    {
     "data": {
      "image/png": "[encoded data removed]",
      "text/plain": [
       "<Figure size 1000x600 with 1 Axes>"
      ]
     },
     "metadata": {},
     "output_type": "display_data"
    }
   ],
   "source": [
    "# Plot feature importances\n",
    "plt.figure(figsize=(10, 6))\n",
    "sns.barplot(x='Importance', y='Feature', data=feature_importance_df.head(10))\n",
    "plt.title('Top 10 Most Important Features')\n",
    "plt.show()"
   ]
  },
  {
   "cell_type": "code",
   "execution_count": 11,
   "id": "e6c35a1f-e568-4c0e-bf4f-8d41eacbf7c9",
   "metadata": {},
   "outputs": [
    {
     "name": "stdout",
     "output_type": "stream",
     "text": [
      "Fitting 3 folds for each of 20 candidates, totalling 60 fits\n",
      "Validation Accuracy with Tuned Model: 0.9987\n"
     ]
    }
   ],
   "source": [
    "# Hyperparameter Tuning with RandomizedSearchCV\n",
    "\n",
    "param_dist = {\n",
    "    'max_depth': [3, 5, 7],\n",
    "    'learning_rate': np.linspace(0.01, 0.2, 5),\n",
    "    'n_estimators': [100, 200, 300],\n",
    "    'subsample': [0.8, 0.9, 1.0],\n",
    "    'colsample_bytree': [0.8, 0.9, 1.0]\n",
    "}\n",
    "\n",
    "random_search = RandomizedSearchCV(\n",
    "    xgb.XGBClassifier(random_state=42, scale_pos_weight=class_weight_dict[1]),  # Apply class weights in XGBoost\n",
    "    param_distributions=param_dist,\n",
    "    n_iter=20,  # Number of random combinations to try\n",
    "    scoring='accuracy',\n",
    "    cv=3,\n",
    "    verbose=1,\n",
    "    random_state=42,\n",
    "    n_jobs=-1  # Use all available cores\n",
    ")\n",
    "\n",
    "# Sample 30% of the data for faster tuning\n",
    "X_train_sample, _, y_train_sample, _ = train_test_split(X_train, y_train, test_size=0.7, random_state=42)\n",
    "\n",
    "# Run RandomizedSearchCV on the smaller sample\n",
    "random_search.fit(X_train_sample, y_train_sample)\n",
    "\n",
    "# Get best parameters and evaluate on validation set\n",
    "best_model = random_search.best_estimator_\n",
    "y_val_pred = best_model.predict(X_val)\n",
    "accuracy = accuracy_score(y_val, y_val_pred)\n",
    "print(f\"Validation Accuracy with Tuned Model: {accuracy:.4f}\")"
   ]
  },
  {
   "cell_type": "code",
   "execution_count": 12,
   "id": "e5a7af3a-974e-4fa2-bcb6-f33b9da1138f",
   "metadata": {},
   "outputs": [
    {
     "name": "stdout",
     "output_type": "stream",
     "text": [
      "Classification Report:\n",
      "              precision    recall  f1-score   support\n",
      "\n",
      "           0       1.00      1.00      1.00     18656\n",
      "           1       0.00      0.00      0.00        18\n",
      "\n",
      "    accuracy                           1.00     18674\n",
      "   macro avg       0.50      0.50      0.50     18674\n",
      "weighted avg       1.00      1.00      1.00     18674\n",
      "\n",
      "Confusion Matrix:\n",
      "[[18650     6]\n",
      " [   18     0]]\n",
      "Validation ROC-AUC Score: 0.7294\n",
      "Test Accuracy: 0.9982\n",
      "Test Classification Report:\n",
      "              precision    recall  f1-score   support\n",
      "\n",
      "           0       1.00      1.00      1.00     18663\n",
      "           1       0.04      0.08      0.06        12\n",
      "\n",
      "    accuracy                           1.00     18675\n",
      "   macro avg       0.52      0.54      0.53     18675\n",
      "weighted avg       1.00      1.00      1.00     18675\n",
      "\n",
      "Test Confusion Matrix:\n",
      "[[18640    23]\n",
      " [   11     1]]\n"
     ]
    }
   ],
   "source": [
    "# Evaluate model performance\n",
    "print(\"Classification Report:\")\n",
    "print(classification_report(y_val, y_val_pred))\n",
    "print(\"Confusion Matrix:\")\n",
    "print(confusion_matrix(y_val, y_val_pred))\n",
    "y_val_pred_prob = best_model.predict_proba(X_val)[:, 1]\n",
    "roc_auc = roc_auc_score(y_val, y_val_pred_prob)\n",
    "print(f\"Validation ROC-AUC Score: {roc_auc:.4f}\")\n",
    "\n",
    "# Retrain the model on the full dataset (train + validation) and evaluate on the test set\n",
    "X_full = pd.concat([X_train, X_val])\n",
    "y_full = pd.concat([y_train, y_val])\n",
    "best_model.fit(X_full, y_full)\n",
    "y_test_pred = best_model.predict(X_test)\n",
    "accuracy = accuracy_score(y_test, y_test_pred)\n",
    "print(f\"Test Accuracy: {accuracy:.4f}\")\n",
    "\n",
    "# Evaluate on the test set\n",
    "print(\"Test Classification Report:\")\n",
    "print(classification_report(y_test, y_test_pred))\n",
    "print(\"Test Confusion Matrix:\")\n",
    "print(confusion_matrix(y_test, y_test_pred))"
   ]
  },
  {
   "cell_type": "code",
   "execution_count": 13,
   "id": "fb4b9a4e-3ce9-4a32-afc9-f44fe4f3cf64",
   "metadata": {},
   "outputs": [
    {
     "name": "stdout",
     "output_type": "stream",
     "text": [
      "Test ROC-AUC Score: 0.8842\n"
     ]
    }
   ],
   "source": [
    "# Predict probabilities and compute ROC-AUC on the test set\n",
    "y_test_pred_prob = best_model.predict_proba(X_test)[:, 1]\n",
    "roc_auc = roc_auc_score(y_test, y_test_pred_prob)\n",
    "print(f\"Test ROC-AUC Score: {roc_auc:.4f}\")"
   ]
  },
  {
   "cell_type": "code",
   "execution_count": null,
   "id": "d3c9af03-1480-4940-bfd4-fda3b6e513cb",
   "metadata": {},
   "outputs": [],
   "source": [
    "# Interpretation\n",
    "\n",
    "# From the output you provided, it seems that your model is suffering from a severe class imbalance problem, as shown by the following:\n",
    "\n",
    "# Accuracy: The test accuracy is extremely high (0.9994), but this is misleading because almost all predictions are for the majority class (no failures).\n",
    "# Confusion Matrix: The model predicts 0 (no failure) for almost every sample, and it fails to predict the minority class (1, machinery failures), as shown by the fact that no 1s are predicted.\n",
    "# Classification Report: The precision, recall, and F1-score for the minority class (1) are all 0, meaning the model is completely ignoring this class.\n",
    "\n",
    "# This is a typical result when dealing with highly imbalanced datasets where one class (in this case, no failure) dominates.\n",
    "\n",
    "# Possible Improvements:\n",
    "\n",
    "# Use Class Weights: You can set class weights to give more importance to the minority class (failures). This can help the model focus more on predicting failures.\n",
    "# In Keras, you can use the class_weight parameter when calling model.fit()."
   ]
  }
 ],
 "metadata": {
  "kernelspec": {
   "display_name": "Python 3 (ipykernel)",
   "language": "python",
   "name": "python3"
  },
  "language_info": {
   "codemirror_mode": {
    "name": "ipython",
    "version": 3
   },
   "file_extension": ".py",
   "mimetype": "text/x-python",
   "name": "python",
   "nbconvert_exporter": "python",
   "pygments_lexer": "ipython3",
   "version": "3.12.3"
  }
 },
 "nbformat": 4,
 "nbformat_minor": 5
}
